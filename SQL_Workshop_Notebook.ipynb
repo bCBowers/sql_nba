{
  "nbformat": 4,
  "nbformat_minor": 0,
  "metadata": {
    "colab": {
      "provenance": [],
      "include_colab_link": true
    },
    "kernelspec": {
      "name": "python3",
      "display_name": "Python 3"
    }
  },
  "cells": [
    {
      "cell_type": "markdown",
      "metadata": {
        "id": "view-in-github",
        "colab_type": "text"
      },
      "source": [
        "<a href=\"https://colab.research.google.com/github/bCBowers/sql_nba/blob/main/SQL_Workshop_Notebook.ipynb\" target=\"_parent\"><img src=\"https://colab.research.google.com/assets/colab-badge.svg\" alt=\"Open In Colab\"/></a>"
      ]
    },
    {
      "cell_type": "markdown",
      "metadata": {
        "id": "pAynvpmlvdZt"
      },
      "source": [
        "### SQL Workshop\n",
        "\n",
        "***Environment and Data Setup***"
      ]
    },
    {
      "cell_type": "markdown",
      "source": [
        "Install needed libraries, ingest data, and setup SQL database"
      ],
      "metadata": {
        "id": "gC6WvAnrKiMj"
      }
    },
    {
      "cell_type": "code",
      "source": [
        "pip install nba_api"
      ],
      "metadata": {
        "id": "yR8iDrA8kSLz"
      },
      "execution_count": null,
      "outputs": []
    },
    {
      "cell_type": "code",
      "source": [
        "from nba_api.stats.endpoints import leagueleaders\n",
        "import pandas as pd\n",
        "from sqlalchemy import create_engine, text\n",
        "\n",
        "# Pull data for the top 500 scorers\n",
        "top_500_23_24 = leagueleaders.LeagueLeaders(\n",
        "    season='2023-24',\n",
        "    season_type_all_star='Regular Season',\n",
        "    stat_category_abbreviation='PTS'\n",
        ").get_data_frames()[0][:500]\n",
        "\n",
        "engine = create_engine('sqlite://', echo=False)\n",
        "conn = engine.connect()\n",
        "\n",
        "top_500_23_24.to_sql(name='league_leaders_23_24', con=engine)"
      ],
      "metadata": {
        "id": "1M6yEUQ0iYfO"
      },
      "execution_count": null,
      "outputs": []
    },
    {
      "cell_type": "markdown",
      "source": [
        "Can see the same data via both Pandas and SQL. Difference in visualization is due to this not being a native SQL environment."
      ],
      "metadata": {
        "id": "PO4B4IX2LNG0"
      }
    },
    {
      "cell_type": "code",
      "source": [
        "top_500_23_24.head(10)"
      ],
      "metadata": {
        "id": "fGMmfQypIcZM"
      },
      "execution_count": null,
      "outputs": []
    },
    {
      "cell_type": "code",
      "source": [
        "cursor = conn.execute(text(\"select * from league_leaders_23_24 limit 10\"))\n",
        "for row in cursor:\n",
        "  print(row)"
      ],
      "metadata": {
        "id": "ghBSS0phHu5v"
      },
      "execution_count": null,
      "outputs": []
    },
    {
      "cell_type": "markdown",
      "source": [
        "Load in additional years worth of data to enrich our analysis."
      ],
      "metadata": {
        "id": "FaWBqadDtGAv"
      }
    },
    {
      "cell_type": "code",
      "source": [
        "top_500_22_23 = leagueleaders.LeagueLeaders(\n",
        "    season='2022-23',\n",
        "    season_type_all_star='Regular Season',\n",
        "    stat_category_abbreviation='PTS'\n",
        ").get_data_frames()[0][:500]\n",
        "\n",
        "top_500_22_23.to_sql(name='league_leaders_22_23', con=engine)\n",
        "\n",
        "top_500_21_22 = leagueleaders.LeagueLeaders(\n",
        "    season='2021-22',\n",
        "    season_type_all_star='Regular Season',\n",
        "    stat_category_abbreviation='PTS'\n",
        ").get_data_frames()[0][:500]\n",
        "\n",
        "top_500_21_22.to_sql(name='league_leaders_21_22', con=engine)\n",
        "\n",
        "top_500_20_21 = leagueleaders.LeagueLeaders(\n",
        "    season='2020-21',\n",
        "    season_type_all_star='Regular Season',\n",
        "    stat_category_abbreviation='PTS'\n",
        ").get_data_frames()[0][:500]\n",
        "\n",
        "top_500_20_21.to_sql(name='league_leaders_20_21', con=engine)\n",
        "\n",
        "top_500_19_20 = leagueleaders.LeagueLeaders(\n",
        "    season='2019-20',\n",
        "    season_type_all_star='Regular Season',\n",
        "    stat_category_abbreviation='PTS'\n",
        ").get_data_frames()[0][:500]\n",
        "\n",
        "top_500_19_20.to_sql(name='league_leaders_19_20', con=engine)"
      ],
      "metadata": {
        "id": "YPuSanG_70_O"
      },
      "execution_count": null,
      "outputs": []
    },
    {
      "cell_type": "markdown",
      "source": [
        "Able to query both tables together using a UNION command."
      ],
      "metadata": {
        "id": "Myl-X_xWtlST"
      }
    },
    {
      "cell_type": "code",
      "source": [
        "cursor = conn.execute(text(\"\"\"\n",
        "  with combined as\n",
        "    (select *, '2023-24' as season from league_leaders_23_24\n",
        "      union\n",
        "    select *, '2022-23' as season from league_leaders_22_23\n",
        "    )\n",
        "    select * from combined\n",
        "    limit 10\n",
        "\"\"\"))\n",
        "for row in cursor:\n",
        "  print(row)"
      ],
      "metadata": {
        "id": "yZhLblfrBEw_"
      },
      "execution_count": null,
      "outputs": []
    },
    {
      "cell_type": "code",
      "source": [],
      "metadata": {
        "id": "MniHK39eBEeZ"
      },
      "execution_count": null,
      "outputs": []
    },
    {
      "cell_type": "markdown",
      "source": [
        "**Challenge Question**"
      ],
      "metadata": {
        "id": "fCUbhCuvtUmS"
      }
    },
    {
      "cell_type": "markdown",
      "source": [
        "Who's going to score the most points during the 2023-24, how many points will he score, and how many points will he average per game?\n",
        "\n",
        "Notes:\n",
        "- 2020-21 and 2021-22 seasons featured 72 games each. All other seasons features 82 games.\n",
        "- Teams this season have played between 49 and 52 games."
      ],
      "metadata": {
        "id": "8qRz1H_pCBxT"
      }
    },
    {
      "cell_type": "code",
      "source": [
        "# Code to start with\n",
        "cursor = conn.execute(text(\n",
        "    \"\"\"with combined as\n",
        "    (\n",
        "      select *, '2023-24' as season, 51 as total_games from league_leaders_23_24\n",
        "      union\n",
        "      select *, '2022-23' as season, 82 as total_games from league_leaders_22_23\n",
        "      union\n",
        "      select *, '2021-22' as season, 82 as total_games from league_leaders_21_22\n",
        "      union\n",
        "      select *, '2020-21' as season, 72 as total_games from league_leaders_20_21\n",
        "      union\n",
        "      select *, '2019-20' as season, 72 as total_games from league_leaders_19_20\n",
        "    ),\n",
        "\n",
        "    -- calculate the how many games each team has played this season and join back into main CTE\n",
        "    max_games as\n",
        "    (\n",
        "      select\n",
        "        team,\n",
        "        max(gp) as games_played\n",
        "      from\n",
        "        league_leaders_23_24\n",
        "      group by team\n",
        "    ),\n",
        "    new_combined as\n",
        "    (\n",
        "      select\n",
        "        combined.*,\n",
        "        coalesce(max_games.games_played, combined.total_games) as total_gp\n",
        "      from\n",
        "        combined left join\n",
        "        max_games on combined.team=max_games.team and season='2023-24'\n",
        "    )\n",
        "    select * from new_combined\n",
        "    limit 10\n",
        "    \"\"\"\n",
        "))\n",
        "for row in cursor:\n",
        "  print(row)"
      ],
      "metadata": {
        "id": "xTf19BuBi90e"
      },
      "execution_count": null,
      "outputs": []
    },
    {
      "cell_type": "markdown",
      "source": [
        "My Solution"
      ],
      "metadata": {
        "id": "cHnGBs7GjJ6O"
      }
    },
    {
      "cell_type": "code",
      "source": [
        "cursor = conn.execute(text(\n",
        "    \"\"\"with combined as\n",
        "    (\n",
        "      select *, '2023-24' as season, 51 as total_games from league_leaders_23_24\n",
        "      union\n",
        "      select *, '2022-23' as season, 82 as total_games from league_leaders_22_23\n",
        "      union\n",
        "      select *, '2021-22' as season, 82 as total_games from league_leaders_21_22\n",
        "      union\n",
        "      select *, '2020-21' as season, 72 as total_games from league_leaders_20_21\n",
        "      union\n",
        "      select *, '2019-20' as season, 72 as total_games from league_leaders_19_20\n",
        "    ),\n",
        "\n",
        "    -- calculate the how many games each team has played this season and join back into main CTE\n",
        "    max_games as\n",
        "    (\n",
        "      select\n",
        "        team,\n",
        "        max(gp) as games_played\n",
        "      from\n",
        "        league_leaders_23_24\n",
        "      group by team\n",
        "    ),\n",
        "    new_combined as\n",
        "    (\n",
        "      select\n",
        "        combined.*,\n",
        "        coalesce(max_games.games_played, combined.total_games) as total_gp\n",
        "      from\n",
        "        combined left join\n",
        "        max_games on combined.team=max_games.team and season='2023-24'\n",
        "    ),\n",
        "\n",
        "    -- find what percentage of games each player typically plays over the past five seasons\n",
        "    perc_played_hist as\n",
        "    (\n",
        "      select\n",
        "        *,\n",
        "        cast(gp as float)/total_gp as perc_played\n",
        "      from\n",
        "        new_combined\n",
        "    ),\n",
        "    perc_played_player as\n",
        "    (\n",
        "      select\n",
        "        player,\n",
        "        player_id,\n",
        "        avg(perc_played) as avg_perc_played\n",
        "      from\n",
        "        perc_played_hist\n",
        "      group by 1,2\n",
        "    ),\n",
        "\n",
        "    -- join avg game played back into main CTE and use for final calculations\n",
        "    current_year as\n",
        "    (\n",
        "      select\n",
        "        new_combined.*,\n",
        "        perc_played_player.avg_perc_played,\n",
        "        cast(pts as float)/gp as ppg\n",
        "      from\n",
        "        new_combined inner join\n",
        "        perc_played_player on new_combined.player_id=perc_played_player.player_id\n",
        "      where new_combined.season='2023-24'\n",
        "    ),\n",
        "    final as\n",
        "    (\n",
        "      select\n",
        "        player,\n",
        "        player_id,\n",
        "        pts + ppg*(82-total_gp)*avg_perc_played as total_pts,\n",
        "        ppg,\n",
        "        round(gp+(82-total_gp)*avg_perc_played) as games_played\n",
        "      from current_year\n",
        "    )\n",
        "\n",
        "    select * from final\n",
        "    order by total_pts desc\n",
        "    limit 10\n",
        "\"\"\"\n",
        "))\n",
        "for row in cursor:\n",
        "  print(row)"
      ],
      "metadata": {
        "id": "-lQigPYlBET_"
      },
      "execution_count": null,
      "outputs": []
    },
    {
      "cell_type": "markdown",
      "source": [
        "Put any notes about your solution here."
      ],
      "metadata": {
        "id": "O1R5V444s3-n"
      }
    },
    {
      "cell_type": "markdown",
      "source": [
        "This last line is to close the connection with the SQL database we created. If we run it before finishing, we need to recreate everything over again."
      ],
      "metadata": {
        "id": "io3Lz-gvsN5o"
      }
    },
    {
      "cell_type": "code",
      "source": [
        "conn.close()"
      ],
      "metadata": {
        "id": "hkeYh7kJlxuS"
      },
      "execution_count": null,
      "outputs": []
    }
  ]
}