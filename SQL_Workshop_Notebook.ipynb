{
  "nbformat": 4,
  "nbformat_minor": 0,
  "metadata": {
    "colab": {
      "provenance": [],
      "include_colab_link": true
    },
    "kernelspec": {
      "name": "python3",
      "display_name": "Python 3"
    }
  },
  "cells": [
    {
      "cell_type": "markdown",
      "metadata": {
        "id": "view-in-github",
        "colab_type": "text"
      },
      "source": [
        "<a href=\"https://colab.research.google.com/github/bCBowers/sql_nba/blob/main/SQL_Workshop_Notebook.ipynb\" target=\"_parent\"><img src=\"https://colab.research.google.com/assets/colab-badge.svg\" alt=\"Open In Colab\"/></a>"
      ]
    },
    {
      "cell_type": "markdown",
      "metadata": {
        "id": "pAynvpmlvdZt"
      },
      "source": [
        "### SQL Workshop\n",
        "\n",
        "***Environment and Data Setup***"
      ]
    },
    {
      "cell_type": "markdown",
      "source": [
        "Install needed libraries, ingest data, and setup SQL database"
      ],
      "metadata": {
        "id": "gC6WvAnrKiMj"
      }
    },
    {
      "cell_type": "code",
      "source": [
        "pip install nba_api"
      ],
      "metadata": {
        "id": "yR8iDrA8kSLz"
      },
      "execution_count": null,
      "outputs": []
    },
    {
      "cell_type": "code",
      "source": [
        "from nba_api.stats.endpoints import leagueleaders\n",
        "import pandas as pd\n",
        "from sqlalchemy import create_engine, text\n",
        "\n",
        "# Pull data for the top 500 scorers\n",
        "top_500_23_24 = leagueleaders.LeagueLeaders(\n",
        "    season='2023-24',\n",
        "    season_type_all_star='Regular Season',\n",
        "    stat_category_abbreviation='PTS'\n",
        ").get_data_frames()[0][:500]\n",
        "\n",
        "engine = create_engine('sqlite://', echo=False)\n",
        "conn = engine.connect()\n",
        "\n",
        "top_500_23_24.to_sql(name='league_leaders_23_24', con=engine)"
      ],
      "metadata": {
        "id": "1M6yEUQ0iYfO"
      },
      "execution_count": null,
      "outputs": []
    },
    {
      "cell_type": "markdown",
      "source": [
        "Can see the same data via both Pandas and SQL. Difference in visualization is due to this not being a native SQL environment."
      ],
      "metadata": {
        "id": "PO4B4IX2LNG0"
      }
    },
    {
      "cell_type": "code",
      "source": [
        "top_500_23_24.head(10)"
      ],
      "metadata": {
        "id": "fGMmfQypIcZM"
      },
      "execution_count": null,
      "outputs": []
    },
    {
      "cell_type": "code",
      "source": [
        "cursor = conn.execute(text(\"select * from league_leaders_23_24 limit 10\"))\n",
        "for row in cursor:\n",
        "  print(row)"
      ],
      "metadata": {
        "id": "ghBSS0phHu5v"
      },
      "execution_count": null,
      "outputs": []
    },
    {
      "cell_type": "code",
      "source": [
        "cursor = conn.execute(text(\"\"\"\n",
        "                            SELECT *\n",
        "                            FROM league_leaders_23_24\n",
        "                            limit 10\n",
        "                            \"\"\"))\n",
        "for row in cursor:\n",
        "  print(row)"
      ],
      "metadata": {
        "id": "8yH1T3PzjwsX"
      },
      "execution_count": null,
      "outputs": []
    },
    {
      "cell_type": "code",
      "source": [
        "cursor = conn.execute(text(\"\"\"\n",
        "                            SELECT player_id, rank, player, team, pts\n",
        "                            FROM league_leaders_23_24\n",
        "                            limit 10\n",
        "                            \"\"\"))\n",
        "for row in cursor:\n",
        "  print(row)"
      ],
      "metadata": {
        "id": "xB6xWANTjwg5"
      },
      "execution_count": null,
      "outputs": []
    },
    {
      "cell_type": "code",
      "source": [
        "cursor = conn.execute(text(\"\"\"\n",
        "                          SELECT player_id, rank, player, team, pts\n",
        "                          FROM league_leaders_23_24\n",
        "                          WHERE pts <= 1000 and pts > 500\n",
        "                            \"\"\"))\n",
        "for row in cursor:\n",
        "  print(row)"
      ],
      "metadata": {
        "id": "c6nRYyPWjwbK"
      },
      "execution_count": null,
      "outputs": []
    },
    {
      "cell_type": "code",
      "source": [
        "cursor = conn.execute(text(\"\"\"\n",
        "                          SELECT team_id, team, sum(pts) Team_PTS,\n",
        "                                count(player_id) player_count, avg(pts) avg_points_per_player\n",
        "                          FROM league_leaders_23_24\n",
        "                          GROUP BY team_id, team\n",
        "                            \"\"\"))\n",
        "for row in cursor:\n",
        "  print(row)"
      ],
      "metadata": {
        "id": "-lXIA8T4jwVc"
      },
      "execution_count": null,
      "outputs": []
    },
    {
      "cell_type": "code",
      "source": [
        "cursor = conn.execute(text(\"\"\"\n",
        "                          with team_max as (\n",
        "                          SELECT team_id, team, max(pts) team_top_scorer,\n",
        "                              round(avg(pts),2) team_avg_scorer\n",
        "                          FROM league_leaders_23_24\n",
        "                          GROUP BY team_id, team\n",
        "                          --HAVING max(pts) > 1250\n",
        "                          )\n",
        "\n",
        "                          SELECT A.team_id, A.team, A.player_id, A.player, A.pts, A.rank,\n",
        "                                B.team_top_scorer, B.team_avg_scorer\n",
        "                          FROM league_leaders_23_24 as A\n",
        "                          LEFT JOIN team_max as B on A.team_id = B.team_id\n",
        "                          ORDER BY A.rank\n",
        "\n",
        "                            \"\"\"))\n",
        "for row in cursor:\n",
        "  print(row)"
      ],
      "metadata": {
        "id": "OQg9lRO3jwQg"
      },
      "execution_count": null,
      "outputs": []
    },
    {
      "cell_type": "code",
      "source": [
        "cursor = conn.execute(text(\"\"\"\n",
        "                        SELECT A.team_id, A.team, A.player_id, A.player, A.pts, A.rank,\n",
        "                        (SELECT max(B.pts) FROM league_leaders_23_24 as B WHERE A.team_id = B.team_id)\n",
        "                                    as team_top_scorer,\n",
        "                        (SELECT round(avg(B.pts),2) FROM league_leaders_23_24 as B\n",
        "                                    WHERE A.team_id = B.team_id) as team_avg_scorer\n",
        "                      FROM league_leaders_23_24 as A\n",
        "                      ORDER BY A.rank\n",
        "                            \"\"\"))\n",
        "for row in cursor:\n",
        "  print(row)"
      ],
      "metadata": {
        "id": "SlsWO9RwjwLj"
      },
      "execution_count": null,
      "outputs": []
    },
    {
      "cell_type": "markdown",
      "source": [
        "**Audience Questions**\n",
        "\n",
        "1) Write a query that returns back the Player Name, Team Tricode, Rebounds_per_game for the 77th ranked player in Rebounds/Game .\n",
        "\n",
        "2) Write a query that explicitly outputs the number of Players averageing 20 or more points per game. How many of those 20+ point scorers averaged double-doubles?"
      ],
      "metadata": {
        "id": "ijd2ZjwKlZuq"
      }
    },
    {
      "cell_type": "markdown",
      "source": [
        "**Challenge Question**"
      ],
      "metadata": {
        "id": "zPGeCfsLllz1"
      }
    },
    {
      "cell_type": "markdown",
      "source": [
        "Who's going to score the most points during the 2023-24, how many points will he score, and how many points will he average per game?\n",
        "\n",
        "Notes:\n",
        "- 2020-21 and 2021-22 seasons featured 72 games each. All other seasons features 82 games.\n",
        "- Teams this season have played between 49 and 52 games."
      ],
      "metadata": {
        "id": "TGj4gZSmlqtF"
      }
    },
    {
      "cell_type": "markdown",
      "source": [
        "Load in additional years worth of data to enrich our analysis."
      ],
      "metadata": {
        "id": "FaWBqadDtGAv"
      }
    },
    {
      "cell_type": "code",
      "source": [
        "top_500_22_23 = leagueleaders.LeagueLeaders(\n",
        "    season='2022-23',\n",
        "    season_type_all_star='Regular Season',\n",
        "    stat_category_abbreviation='PTS'\n",
        ").get_data_frames()[0][:500]\n",
        "\n",
        "top_500_22_23.to_sql(name='league_leaders_22_23', con=engine)\n",
        "\n",
        "top_500_21_22 = leagueleaders.LeagueLeaders(\n",
        "    season='2021-22',\n",
        "    season_type_all_star='Regular Season',\n",
        "    stat_category_abbreviation='PTS'\n",
        ").get_data_frames()[0][:500]\n",
        "\n",
        "top_500_21_22.to_sql(name='league_leaders_21_22', con=engine)\n",
        "\n",
        "top_500_20_21 = leagueleaders.LeagueLeaders(\n",
        "    season='2020-21',\n",
        "    season_type_all_star='Regular Season',\n",
        "    stat_category_abbreviation='PTS'\n",
        ").get_data_frames()[0][:500]\n",
        "\n",
        "top_500_20_21.to_sql(name='league_leaders_20_21', con=engine)\n",
        "\n",
        "top_500_19_20 = leagueleaders.LeagueLeaders(\n",
        "    season='2019-20',\n",
        "    season_type_all_star='Regular Season',\n",
        "    stat_category_abbreviation='PTS'\n",
        ").get_data_frames()[0][:500]\n",
        "\n",
        "top_500_19_20.to_sql(name='league_leaders_19_20', con=engine)"
      ],
      "metadata": {
        "id": "YPuSanG_70_O"
      },
      "execution_count": null,
      "outputs": []
    },
    {
      "cell_type": "markdown",
      "source": [
        "Able to query both tables together using a UNION command."
      ],
      "metadata": {
        "id": "Myl-X_xWtlST"
      }
    },
    {
      "cell_type": "code",
      "source": [
        "cursor = conn.execute(text(\"\"\"\n",
        "  with combined as\n",
        "    (select *, '2023-24' as season from league_leaders_23_24\n",
        "      union\n",
        "    select *, '2022-23' as season from league_leaders_22_23\n",
        "    )\n",
        "    select * from combined\n",
        "    limit 10\n",
        "\"\"\"))\n",
        "for row in cursor:\n",
        "  print(row)"
      ],
      "metadata": {
        "id": "yZhLblfrBEw_"
      },
      "execution_count": null,
      "outputs": []
    },
    {
      "cell_type": "code",
      "source": [
        "# Code to start with\n",
        "cursor = conn.execute(text(\n",
        "    \"\"\"with combined as\n",
        "    (\n",
        "      select *, '2023-24' as season, 51 as total_games from league_leaders_23_24\n",
        "      union\n",
        "      select *, '2022-23' as season, 82 as total_games from league_leaders_22_23\n",
        "      union\n",
        "      select *, '2021-22' as season, 82 as total_games from league_leaders_21_22\n",
        "      union\n",
        "      select *, '2020-21' as season, 72 as total_games from league_leaders_20_21\n",
        "      union\n",
        "      select *, '2019-20' as season, 72 as total_games from league_leaders_19_20\n",
        "    ),\n",
        "\n",
        "    -- calculate the how many games each team has played this season and join back into main CTE\n",
        "    max_games as\n",
        "    (\n",
        "      select\n",
        "        team,\n",
        "        max(gp) as games_played\n",
        "      from\n",
        "        league_leaders_23_24\n",
        "      group by team\n",
        "    ),\n",
        "    new_combined as\n",
        "    (\n",
        "      select\n",
        "        combined.*,\n",
        "        coalesce(max_games.games_played, combined.total_games) as total_gp\n",
        "      from\n",
        "        combined left join\n",
        "        max_games on combined.team=max_games.team and season='2023-24'\n",
        "    )\n",
        "    select * from new_combined\n",
        "    limit 10\n",
        "    \"\"\"\n",
        "))\n",
        "for row in cursor:\n",
        "  print(row)"
      ],
      "metadata": {
        "id": "xTf19BuBi90e"
      },
      "execution_count": null,
      "outputs": []
    },
    {
      "cell_type": "markdown",
      "source": [
        "This last line is to close the connection with the SQL database we created. If we run it before finishing, we need to recreate everything over again."
      ],
      "metadata": {
        "id": "io3Lz-gvsN5o"
      }
    },
    {
      "cell_type": "code",
      "source": [
        "conn.close()"
      ],
      "metadata": {
        "id": "hkeYh7kJlxuS"
      },
      "execution_count": null,
      "outputs": []
    }
  ]
}